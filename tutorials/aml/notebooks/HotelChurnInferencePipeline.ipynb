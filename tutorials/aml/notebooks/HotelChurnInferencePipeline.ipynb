{
  "cells": [
    {
      "cell_type": "code",
      "source": [
        "# create workspace\r\n",
        "# azureml-core of version 1.0.72 or higher is required\r\n",
        "# azureml-dataprep[pandas] of version 1.1.34 or higher is required\r\n",
        "from azureml.core import Workspace, Dataset, Datastore, ScriptRunConfig\r\n",
        "from azureml.data.data_reference import DataReference\r\n",
        "import os\r\n"
      ],
      "outputs": [],
      "execution_count": 2,
      "metadata": {
        "gather": {
          "logged": 1606763201986
        }
      }
    },
    {
      "cell_type": "code",
      "source": [
        "print(datastore)"
      ],
      "outputs": [
        {
          "output_type": "stream",
          "name": "stdout",
          "text": [
            "{\n",
            "  \"name\": \"workspaceblobstore\",\n",
            "  \"container_name\": \"azureml-blobstore-68bb0559-44b8-4531-9efe-25580301f111\",\n",
            "  \"account_name\": \"zachamltest5770271416\",\n",
            "  \"protocol\": \"https\",\n",
            "  \"endpoint\": \"core.windows.net\"\n",
            "}\n"
          ]
        }
      ],
      "execution_count": 121,
      "metadata": {
        "collapsed": true,
        "jupyter": {
          "source_hidden": false,
          "outputs_hidden": false
        },
        "nteract": {
          "transient": {
            "deleting": false
          }
        },
        "gather": {
          "logged": 1606347151214
        }
      }
    },
    {
      "cell_type": "code",
      "source": [
        "# create a pipeline\r\n",
        "from azureml.core.compute import AmlCompute, ComputeTarget\r\n",
        "from azureml.pipeline.steps import PythonScriptStep\r\n",
        "from azureml.pipeline.core import Pipeline\r\n",
        "from azureml.data.datapath import DataPath, DataPathComputeBinding\r\n",
        "from azureml.pipeline.core import PipelineParameter\r\n",
        "from azureml.core.datastore import Datastore\r\n",
        "from azureml.pipeline.core import PipelineData\r\n",
        "from azureml.data import OutputFileDatasetConfig\r\n",
        "from azureml.data.dataset_consumption_config import DatasetConsumptionConfig\r\n",
        "from azureml.core import Environment\r\n",
        "\r\n",
        "\r\n",
        "ws = Workspace.from_config()\r\n",
        "datastore = ws.get_default_datastore()\r\n",
        "\r\n",
        "#Retrieve an already attached Azure Machine Learning Compute\r\n",
        "from azureml.core.compute_target import ComputeTargetException\r\n",
        "aml_compute_target = \"Your AML Compute\"\r\n",
        "try:\r\n",
        "    aml_compute = AmlCompute(ws, aml_compute_target)\r\n",
        "    print(\"Found existing compute target: {}\".format(aml_compute_target))\r\n",
        "except ComputeTargetException:\r\n",
        "    print(\"Creating new compute target: {}\".format(aml_compute_target))\r\n",
        "    \r\n",
        "    provisioning_config = AmlCompute.provisioning_configuration(vm_size = \"STANDARD_D2_V2\",\r\n",
        "                                                                min_nodes = 1, \r\n",
        "                                                                max_nodes = 1)    \r\n",
        "    aml_compute = ComputeTarget.create(ws, aml_compute_target, provisioning_config)\r\n",
        "    aml_compute.wait_for_completion(show_output=True, min_node_count=None, timeout_in_minutes=20)\r\n",
        "\r\n",
        "# get datasets from CI\r\n",
        "# Ad hoc Datasets also referred to Saved datasets are not discoverable from Audience Insights currently.\r\n",
        "# Example: IncompatibleDataset = Dataset.Tabular.from_delimited_files('https://cidatasets.blob.core.windows.net/hotel-scenario/ContosoHotel_HotelActivity_1.csv')\r\n",
        "# You need to use registered datasets and then consume them by their name \r\n",
        "# Example: CompatibleDataset = Dataset.get_by_name(ws, name='Hotel Stay Activity Data')\r\n",
        "\r\n",
        "#HotelStayActivity_dataset = Dataset.Tabular.from_delimited_files('https://cidatasets.blob.core.windows.net/hotel-scenario/ContosoHotel_HotelActivity_1.csv')\r\n",
        "HotelStayActivity_dataset = Dataset.get_by_name(ws, name='Hotel Stay Activity Data')\r\n",
        "HotelStayActivity_pipeline_param = PipelineParameter(name=\"HotelStayActivity_pipeline_param\", default_value=HotelStayActivity_dataset)\r\n",
        "HotelStayActivity_ds_consumption = DatasetConsumptionConfig(\"HotelStayActivity_dataset\", HotelStayActivity_pipeline_param)\r\n",
        "\r\n",
        "#Customer_dataset = Dataset.Tabular.from_delimited_files('https://cidatasets.blob.core.windows.net/hotel-scenario/Customer_1.csv')    \r\n",
        "Customer_dataset = Dataset.get_by_name(ws, name= 'Customer Data')\r\n",
        "Customer_pipeline_param = PipelineParameter(name=\"Custolmer_pipeline_param\", default_value=Customer_dataset)\r\n",
        "Customer_ds_consumption = DatasetConsumptionConfig(\"Customer_dataset\", Customer_pipeline_param)\r\n",
        "\r\n",
        "#ServiceUsage_dataset = Dataset.Tabular.from_delimited_files('https://cidatasets.blob.core.windows.net/hotel-scenario/ContosoHotel_ServiceUsage_1.csv')    \r\n",
        "ServiceUsage_dataset = Dataset.get_by_name(ws, name='Service Usage Data')\r\n",
        "ServiceUsage_pipeline_param = PipelineParameter(name=\"ServiceUsage_pipeline_param\", default_value=ServiceUsage_dataset)\r\n",
        "ServiceUsage_ds_consumption = DatasetConsumptionConfig(\"ServiceUsage_dataset\", ServiceUsage_pipeline_param)\r\n",
        "\r\n",
        "hotel_churn_ds = OutputFileDatasetConfig(name=\"HotelChurnOutput\", destination=(datastore,\"test2\")).read_delimited_files().register_on_complete(name='HotelChurnOutput')\r\n",
        "# Currently OutputFIleDatasetConfig doesn't support parameterization of the output datastore and path which are requried for Audience Insights Integration\r\n",
        "# Example: hotel_churn_ds = OutputFileDatasetConfig(name=\"HotelChurnOutput\", destination=(datastore,\"path\")).read_delimited_files().register_on_complete(name='HotelChurnOutput')\r\n",
        "# Instead, you you will need to use string parameters for datastore and path, and then rely on Datastore.upload() to upload it to the datastore and path, which is accessible to Audience Insights.\r\n",
        "# In your Pipeline Setup: OutputPathParameter = PipelineParameter(name=\"output_path\", default_value=\"HotelChurnOutput1/\")\r\n",
        "# In your score.py: ws = run.experiment.workspace\r\n",
        "#                   datastore = Datastore.get(ws, datastore_parameter)\r\n",
        "#                   datastore.upload(src_dir=compute_src_dir, target_path=output_path, overWrite=True)\r\n",
        "\r\n",
        "OutputPathParameter = PipelineParameter(name=\"output_path\", default_value=\"HotelChurnOutput2/HotelChurnOutput.csv\")\r\n",
        "OutputDatastoreParameter = PipelineParameter(name=\"output_datastore\", default_value=\"workspaceblobstore\")\r\n",
        "\r\n",
        "# print(hotel_churn_ds)\r\n",
        "env = Environment.from_conda_specification(name = 'env', file_path = './conda_dependencies.yml')\r\n",
        "\r\n",
        "# source_directory\r\n",
        "source_directory = './scripts'\r\n",
        "os.makedirs(source_directory, exist_ok=True)\r\n",
        "script_name = \"score.py\"\r\n",
        "# define a single step pipeline for demonstration purpose.\r\n",
        "src = ScriptRunConfig(source_directory=source_directory,\r\n",
        "                    script=script_name,\r\n",
        "                    compute_target=aml_compute_target,\r\n",
        "                    environment=env)\r\n",
        "\r\n",
        "inferenceStep = PythonScriptStep(\r\n",
        "    name=\"Inferencing_Step\",\r\n",
        "    script_name=src.script,\r\n",
        "    arguments=[\"--input_data1\", HotelStayActivity_ds_consumption, \"--input_data2\", Customer_ds_consumption, \"--input_data3\", ServiceUsage_ds_consumption, \"--output_path\", OutputPathParameter, \"--output_datastore\", OutputDatastoreParameter, \"--output_dataset\", hotel_churn_ds],\r\n",
        "    inputs=[HotelStayActivity_ds_consumption, Customer_ds_consumption, ServiceUsage_ds_consumption], \r\n",
        "    #compute_target=aml_compute_target, \r\n",
        "    source_directory=src.source_directory,\r\n",
        "    runconfig = src.run_config)\r\n",
        "\r\n",
        "print(\"Inferencing_Step created\")\r\n",
        "# build and validate Pipeline\r\n",
        "pipeline = Pipeline(workspace=ws, steps=[inferenceStep])\r\n",
        "print(\"Pipeline is built\")"
      ],
      "outputs": [
        {
          "output_type": "stream",
          "name": "stdout",
          "text": [
            "Found existing compute target: CRD27100\n",
            "Inferencing_Step created\n",
            "Pipeline is built\n"
          ]
        },
        {
          "output_type": "stream",
          "name": "stderr",
          "text": [
            "WARNING - Class OutputFileDatasetConfig: This is an experimental class, and may change at any time.<br/>For more information, see https://aka.ms/azuremlexperimental.\n",
            "WARNING - Class OutputDatasetConfig: This is an experimental class, and may change at any time.<br/>For more information, see https://aka.ms/azuremlexperimental.\n",
            "WARNING - Class OutputTabularDatasetConfig: This is an experimental class, and may change at any time.<br/>For more information, see https://aka.ms/azuremlexperimental.\n",
            "WARNING - Class OutputDatasetConfig: This is an experimental class, and may change at any time.<br/>For more information, see https://aka.ms/azuremlexperimental.\n",
            "WARNING - Class RegistrationConfiguration: This is an experimental class, and may change at any time.<br/>For more information, see https://aka.ms/azuremlexperimental.\n"
          ]
        }
      ],
      "execution_count": 23,
      "metadata": {
        "collapsed": true,
        "jupyter": {
          "source_hidden": false,
          "outputs_hidden": false
        },
        "nteract": {
          "transient": {
            "deleting": false
          }
        },
        "gather": {
          "logged": 1606773079458
        }
      }
    },
    {
      "cell_type": "code",
      "source": [
        "#register model\r\n",
        "\r\n",
        "from azureml.core.model import Model\r\n",
        "# Tip: When model_path is set to a directory, you can use the child_paths parameter to include\r\n",
        "#      only some of the files from the directory\r\n",
        "model = Model.register(model_path = \"./models\",\r\n",
        "                       model_name = \"churnscore\",\r\n",
        "                       description = \"Logistic Regression Model\",\r\n",
        "                       workspace = ws)"
      ],
      "outputs": [
        {
          "output_type": "stream",
          "name": "stdout",
          "text": [
            "Registering model churnscore\n"
          ]
        }
      ],
      "execution_count": 83,
      "metadata": {
        "collapsed": true,
        "jupyter": {
          "source_hidden": false,
          "outputs_hidden": false
        },
        "nteract": {
          "transient": {
            "deleting": false
          }
        },
        "gather": {
          "logged": 1606437992002
        }
      }
    },
    {
      "cell_type": "code",
      "source": [
        "# publish pipeline endpoint\r\n",
        "from azureml.pipeline.core import PipelineEndpoint\r\n",
        "#pipeline_endpoint = PipelineEndpoint.publish(workspace=ws, name=\"PipelineEndpointTestNaravill49\", pipeline=pipeline, description=\"Test description Notebook\")\r\n",
        "published_pipeline = pipeline.publish(name=\"PipelineTestNaravill49\", description=\"published pipeline\")\r\n",
        "pipeline_endpoint = PipelineEndpoint.get(workspace=ws, name=\"PipelineEndpointTestNaravill49\") \r\n",
        "pipeline_endpoint.add_default(pipeline=published_pipeline)"
      ],
      "outputs": [
        {
          "output_type": "stream",
          "name": "stdout",
          "text": [
            "Created step Inferencing_Step [ee61f0c4][cb1aec4c-c86a-4b0e-b5b5-aa0037a28d98], (This step will run and generate new outputs)\n"
          ]
        }
      ],
      "execution_count": 24,
      "metadata": {
        "collapsed": true,
        "jupyter": {
          "source_hidden": false,
          "outputs_hidden": false
        },
        "nteract": {
          "transient": {
            "deleting": false
          }
        },
        "gather": {
          "logged": 1606773092349
        }
      }
    },
    {
      "cell_type": "code",
      "source": [
        "from azureml.core import Experiment\r\n",
        "pipeline_endpoint = PipelineEndpoint.get(workspace=ws, name=\"PipelineEndpointTestNaravill49\")\r\n",
        "experiment = Experiment(ws, 'naravillexperiments')\r\n",
        "pipeline_run = experiment.submit(config=pipeline_endpoint)"
      ],
      "outputs": [],
      "execution_count": 25,
      "metadata": {
        "collapsed": true,
        "jupyter": {
          "source_hidden": false,
          "outputs_hidden": false
        },
        "nteract": {
          "transient": {
            "deleting": false
          }
        },
        "gather": {
          "logged": 1606773094817
        }
      }
    },
    {
      "cell_type": "code",
      "source": [
        "print(pipeline_run)\r\n",
        "pipeline_run.get_details()"
      ],
      "outputs": [
        {
          "output_type": "stream",
          "name": "stdout",
          "text": [
            "Run(Experiment: naravillexperiments,\n",
            "Id: ae22d0aa-0ed2-41e1-9d92-ece69fb75efb,\n",
            "Type: azureml.PipelineRun,\n",
            "Status: NotStarted)\n"
          ]
        },
        {
          "output_type": "execute_result",
          "execution_count": 22,
          "data": {
            "text/plain": "{'runId': 'ae22d0aa-0ed2-41e1-9d92-ece69fb75efb',\n 'status': 'Running',\n 'startTimeUtc': '2020-11-30T20:24:06.235204Z',\n 'properties': {'azureml.runsource': 'azureml.PipelineRun',\n  'runSource': 'SDK',\n  'runType': 'SDK',\n  'azureml.parameters': '{\"output_path\":\"HotelChurnOutput2/HotelChurnOutput.csv\",\"output_datastore\":\"workspaceblobstore\"}',\n  'azureml.pipelineid': '2a2d76d1-ac55-4a83-8748-c4724312f77f'},\n 'inputDatasets': [],\n 'logFiles': {}}"
          },
          "metadata": {}
        }
      ],
      "execution_count": 22,
      "metadata": {
        "collapsed": true,
        "jupyter": {
          "source_hidden": false,
          "outputs_hidden": false
        },
        "nteract": {
          "transient": {
            "deleting": false
          }
        },
        "gather": {
          "logged": 1606767850343
        }
      }
    },
    {
      "cell_type": "code",
      "source": [
        "ServiceUsage_dataset.to_pandas_dataframe()"
      ],
      "outputs": [
        {
          "output_type": "execute_result",
          "execution_count": 79,
          "data": {
            "text/plain": "       ServicesCustomerID   StayID ActivityID  ServiceID ServiceName  \\\n0                 A000001  S000001  Act000000          0        wifi   \n1                 A000001  S000001  Act000001          0        wifi   \n2                 A000001  S000001  Act000002          0        wifi   \n3                 A000001  S000001  Act000003          5       phone   \n4                 A000001  S000001  Act000004          5       phone   \n...                   ...      ...        ...        ...         ...   \n462531            A014998     None  Act462531          7  restaurant   \n462532            A014999     None  Act462532          7  restaurant   \n462533            A014999     None  Act462533          7  restaurant   \n462534            A015000     None  Act462534          7  restaurant   \n462535            A015000     None  Act462535          7  restaurant   \n\n        ServiceCost ServiceDate  \n0                10  2017-09-07  \n1                10  2017-09-08  \n2                10  2017-09-09  \n3                 1  2017-09-07  \n4                 1  2017-09-08  \n...             ...         ...  \n462531           75  2017-12-09  \n462532           75  2017-05-05  \n462533           75  2015-09-05  \n462534           75  2017-07-01  \n462535           75  2015-09-03  \n\n[462536 rows x 7 columns]",
            "text/html": "<div>\n<style scoped>\n    .dataframe tbody tr th:only-of-type {\n        vertical-align: middle;\n    }\n\n    .dataframe tbody tr th {\n        vertical-align: top;\n    }\n\n    .dataframe thead th {\n        text-align: right;\n    }\n</style>\n<table border=\"1\" class=\"dataframe\">\n  <thead>\n    <tr style=\"text-align: right;\">\n      <th></th>\n      <th>ServicesCustomerID</th>\n      <th>StayID</th>\n      <th>ActivityID</th>\n      <th>ServiceID</th>\n      <th>ServiceName</th>\n      <th>ServiceCost</th>\n      <th>ServiceDate</th>\n    </tr>\n  </thead>\n  <tbody>\n    <tr>\n      <th>0</th>\n      <td>A000001</td>\n      <td>S000001</td>\n      <td>Act000000</td>\n      <td>0</td>\n      <td>wifi</td>\n      <td>10</td>\n      <td>2017-09-07</td>\n    </tr>\n    <tr>\n      <th>1</th>\n      <td>A000001</td>\n      <td>S000001</td>\n      <td>Act000001</td>\n      <td>0</td>\n      <td>wifi</td>\n      <td>10</td>\n      <td>2017-09-08</td>\n    </tr>\n    <tr>\n      <th>2</th>\n      <td>A000001</td>\n      <td>S000001</td>\n      <td>Act000002</td>\n      <td>0</td>\n      <td>wifi</td>\n      <td>10</td>\n      <td>2017-09-09</td>\n    </tr>\n    <tr>\n      <th>3</th>\n      <td>A000001</td>\n      <td>S000001</td>\n      <td>Act000003</td>\n      <td>5</td>\n      <td>phone</td>\n      <td>1</td>\n      <td>2017-09-07</td>\n    </tr>\n    <tr>\n      <th>4</th>\n      <td>A000001</td>\n      <td>S000001</td>\n      <td>Act000004</td>\n      <td>5</td>\n      <td>phone</td>\n      <td>1</td>\n      <td>2017-09-08</td>\n    </tr>\n    <tr>\n      <th>...</th>\n      <td>...</td>\n      <td>...</td>\n      <td>...</td>\n      <td>...</td>\n      <td>...</td>\n      <td>...</td>\n      <td>...</td>\n    </tr>\n    <tr>\n      <th>462531</th>\n      <td>A014998</td>\n      <td>None</td>\n      <td>Act462531</td>\n      <td>7</td>\n      <td>restaurant</td>\n      <td>75</td>\n      <td>2017-12-09</td>\n    </tr>\n    <tr>\n      <th>462532</th>\n      <td>A014999</td>\n      <td>None</td>\n      <td>Act462532</td>\n      <td>7</td>\n      <td>restaurant</td>\n      <td>75</td>\n      <td>2017-05-05</td>\n    </tr>\n    <tr>\n      <th>462533</th>\n      <td>A014999</td>\n      <td>None</td>\n      <td>Act462533</td>\n      <td>7</td>\n      <td>restaurant</td>\n      <td>75</td>\n      <td>2015-09-05</td>\n    </tr>\n    <tr>\n      <th>462534</th>\n      <td>A015000</td>\n      <td>None</td>\n      <td>Act462534</td>\n      <td>7</td>\n      <td>restaurant</td>\n      <td>75</td>\n      <td>2017-07-01</td>\n    </tr>\n    <tr>\n      <th>462535</th>\n      <td>A015000</td>\n      <td>None</td>\n      <td>Act462535</td>\n      <td>7</td>\n      <td>restaurant</td>\n      <td>75</td>\n      <td>2015-09-03</td>\n    </tr>\n  </tbody>\n</table>\n<p>462536 rows × 7 columns</p>\n</div>"
          },
          "metadata": {}
        }
      ],
      "execution_count": 79,
      "metadata": {
        "collapsed": true,
        "jupyter": {
          "source_hidden": false,
          "outputs_hidden": false
        },
        "nteract": {
          "transient": {
            "deleting": false
          }
        },
        "gather": {
          "logged": 1605227196188
        }
      }
    },
    {
      "cell_type": "code",
      "source": [],
      "outputs": [],
      "execution_count": null,
      "metadata": {
        "collapsed": true,
        "jupyter": {
          "source_hidden": false,
          "outputs_hidden": false
        },
        "nteract": {
          "transient": {
            "deleting": false
          }
        }
      }
    }
  ],
  "metadata": {
    "kernelspec": {
      "name": "python3-azureml",
      "language": "python",
      "display_name": "Python 3.6 - AzureML"
    },
    "language_info": {
      "name": "python",
      "version": "3.6.9",
      "mimetype": "text/x-python",
      "codemirror_mode": {
        "name": "ipython",
        "version": 3
      },
      "pygments_lexer": "ipython3",
      "nbconvert_exporter": "python",
      "file_extension": ".py"
    },
    "kernel_info": {
      "name": "python3-azureml"
    },
    "nteract": {
      "version": "nteract-front-end@1.0.0"
    }
  },
  "nbformat": 4,
  "nbformat_minor": 2
}
