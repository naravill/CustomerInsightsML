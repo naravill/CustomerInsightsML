# create workspace
# azureml-core of version 1.0.72 or higher is required
# azureml-dataprep[pandas] of version 1.1.34 or higher is required
from azureml.core import Workspace, Dataset, Datastore, ScriptRunConfig
from azureml.data.data_reference import DataReference
import os
