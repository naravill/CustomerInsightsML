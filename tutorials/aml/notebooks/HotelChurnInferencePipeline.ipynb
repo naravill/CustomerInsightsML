{
  "cells": [
    {
      "cell_type": "markdown",
      "metadata": {},
      "source": [
        "Copyright (c) Microsoft Corporation. All rights reserved.  \n",
        "Licensed under the MIT License."
      ]
    },
    {
      "cell_type": "markdown",
      "metadata": {},
      "source": [
      ]
    }
  ],
  "metadata": {
    "authors": [
      {
        "name": "naravill"
      }
    ],
    "category": "tutorial",
    "compute": [
      "AMLCompute"
    ],
    "datasets": [
      "Custom"
    ],
    "deployment": [
      "None"
    ],
    "exclude_from_index": false,
    "framework": [
      "Azure ML"
    ],
    "friendly_name": "Hotel Churn Inference Pipeline",
    "kernelspec": {
      "display_name": "Python 3.6",
      "language": "python",
      "name": "python36"
    },
    "language_info": {
      "codemirror_mode": {
        "name": "ipython",
        "version": 3
      },
      "file_extension": ".py",
      "mimetype": "text/x-python",
      "name": "python",
      "nbconvert_exporter": "python",
      "pygments_lexer": "ipython3",
      "version": "3.7.3"
    },
    "order_index": 1,
    "star_tag": [
      "featured"
    ],
    "tags": [
      "None"
    ],
    "task": "Hotel Churn Inference Pipeline"
  },
  "nbformat": 1,
  "nbformat_minor": 0
}
