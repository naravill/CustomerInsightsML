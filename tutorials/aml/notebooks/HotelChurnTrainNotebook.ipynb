{
  "cells": [
    {
      "cell_type": "code",
      "source": [
        "# Copyright (c) Microsoft. All rights reserved.\r\n",
        "# Licensed under the MIT license."
      ],
      "outputs": [],
      "execution_count": 1,
      "metadata": {
        "collapsed": true,
        "jupyter": {
          "source_hidden": false,
          "outputs_hidden": false
        },
        "nteract": {
          "transient": {
            "deleting": false
          }
        },
        "gather": {
          "logged": 1607122553587
        }
      }
    },
    {
      "cell_type": "markdown",
      "source": [
        "# Jupyter Notebook For Hotel Churn Train Pipeline "
      ],
      "metadata": {
        "nteract": {
          "transient": {
            "deleting": false
          }
        }
      }
    },
    {
      "cell_type": "code",
      "source": [
        "# create workspace\r\n",
        "# azureml-core of version 1.0.72 or higher is required\r\n",
        "# azureml-dataprep[pandas] of version 1.1.34 or higher is required\r\n",
        "from azureml.core import Workspace, Dataset, Datastore, ScriptRunConfig, Experiment\r\n",
        "from azureml.data.data_reference import DataReference\r\n",
        "import os\r\n",
        "import azureml.dataprep as dprep\r\n",
        "import pandas as pd\r\n",
        "import numpy as np\r\n",
        "import scripts.pipeline_library as pl\r\n",
        "\r\n",
        "subscription_id = '7c469e39-c3bc-4752-a3f1-7447c5aecfa8'\r\n",
        "resource_group = 'zacook-dev'\r\n",
        "workspace_name = 'Zach-AMLTest'\r\n",
        "\r\n",
        "ws = Workspace(subscription_id, resource_group, workspace_name)\r\n",
        "def_blob_store = Datastore(ws, \"workspaceblobstore\")\r\n",
        "datastore = ws.get_default_datastore()"
      ],
      "outputs": [],
      "execution_count": 2,
      "metadata": {
        "gather": {
          "logged": 1607122554577
        }
      }
    },
    {
      "cell_type": "code",
      "source": [
        "hotelActivityData = Dataset.get_by_name(ws, name='Hotel Stay Activity Data')\r\n",
        "customerData = Dataset.get_by_name(ws, name='Customer Data')\r\n",
        "serviceUsageData = Dataset.get_by_name(ws, name='Service Usage Data')\r\n",
        "config = {\r\n",
        "    \"output_datastore\" : None,\r\n",
        "    \"output_path\" : None,\r\n",
        "    \"model\" : None,\r\n",
        "    \"run\" : None,\r\n",
        "    \"workspace\": ws,\r\n",
        "    \"step_type\" : \"train\",\r\n",
        "    \"model_folder\" : \"models\",\r\n",
        "    \"model_name\" : 'churnscore',\r\n",
        "    \"description\" : \"Hotel Churn Logistic Regression Model\"\r\n",
        "}\r\n",
        "\r\n",
        "pl.pipeline_steps(hotelActivityData, \r\n",
        "customerData, \r\n",
        "serviceUsageData, \r\n",
        "config)\r\n"
      ],
      "outputs": [
        {
          "output_type": "stream",
          "name": "stderr",
          "text": [
            "/mnt/batch/tasks/shared/LS_root/mounts/clusters/computercrd27100/code/Users/akprabhu/AMLHotelChurnJupyterNotebook/scripts/pipeline_library.py:48: SettingWithCopyWarning: \n",
            "A value is trying to be set on a copy of a slice from a DataFrame.\n",
            "Try using .loc[row_indexer,col_indexer] = value instead\n",
            "\n",
            "See the caveats in the documentation: http://pandas.pydata.org/pandas-docs/stable/user_guide/indexing.html#returning-a-view-versus-a-copy\n",
            "  df_after_categorical_type_change[col] = df_after_categorical_type_change[col].astype('category')\n",
            "/mnt/batch/tasks/shared/LS_root/mounts/clusters/computercrd27100/code/Users/akprabhu/AMLHotelChurnJupyterNotebook/scripts/pipeline_library.py:64: SettingWithCopyWarning: \n",
            "A value is trying to be set on a copy of a slice from a DataFrame.\n",
            "Try using .loc[row_indexer,col_indexer] = value instead\n",
            "\n",
            "See the caveats in the documentation: http://pandas.pydata.org/pandas-docs/stable/user_guide/indexing.html#returning-a-view-versus-a-copy\n",
            "  df_joined1_selected[\"NumberOfNights\"] = df_joined1_selected[\"NumberOfNights\"].astype(int)\n",
            "/mnt/batch/tasks/shared/LS_root/mounts/clusters/computercrd27100/code/Users/akprabhu/AMLHotelChurnJupyterNotebook/scripts/pipeline_library.py:68: SettingWithCopyWarning: \n",
            "A value is trying to be set on a copy of a slice from a DataFrame\n",
            "\n",
            "See the caveats in the documentation: http://pandas.pydata.org/pandas-docs/stable/user_guide/indexing.html#returning-a-view-versus-a-copy\n",
            "  df[col_name][~mask] = 0\n",
            "/mnt/batch/tasks/shared/LS_root/mounts/clusters/computercrd27100/code/Users/akprabhu/AMLHotelChurnJupyterNotebook/scripts/pipeline_library.py:73: SettingWithCopyWarning: \n",
            "A value is trying to be set on a copy of a slice from a DataFrame\n",
            "\n",
            "See the caveats in the documentation: http://pandas.pydata.org/pandas-docs/stable/user_guide/indexing.html#returning-a-view-versus-a-copy\n",
            "  df[col_name][mask] = 1\n",
            "/mnt/batch/tasks/shared/LS_root/mounts/clusters/computercrd27100/code/Users/akprabhu/AMLHotelChurnJupyterNotebook/scripts/pipeline_library.py:113: SettingWithCopyWarning: \n",
            "A value is trying to be set on a copy of a slice from a DataFrame\n",
            "\n",
            "See the caveats in the documentation: http://pandas.pydata.org/pandas-docs/stable/user_guide/indexing.html#returning-a-view-versus-a-copy\n",
            "  df_right[\"Label\"][df_right[\"LastStay\"] > \"2016-12-31T00:00:00\"] = 0\n",
            "/mnt/batch/tasks/shared/LS_root/mounts/clusters/computercrd27100/code/Users/akprabhu/AMLHotelChurnJupyterNotebook/scripts/pipeline_library.py:125: SettingWithCopyWarning: \n",
            "A value is trying to be set on a copy of a slice from a DataFrame.\n",
            "Try using .loc[row_indexer,col_indexer] = value instead\n",
            "\n",
            "See the caveats in the documentation: http://pandas.pydata.org/pandas-docs/stable/user_guide/indexing.html#returning-a-view-versus-a-copy\n",
            "  df_right[\"ServiceDate\"] = serviceUsageDF[\"ServiceDate\"]\n",
            "/mnt/batch/tasks/shared/LS_root/mounts/clusters/computercrd27100/code/Users/akprabhu/AMLHotelChurnJupyterNotebook/scripts/pipeline_library.py:119: SettingWithCopyWarning: \n",
            "A value is trying to be set on a copy of a slice from a DataFrame.\n",
            "Try using .loc[row_indexer,col_indexer] = value instead\n",
            "\n",
            "See the caveats in the documentation: http://pandas.pydata.org/pandas-docs/stable/user_guide/indexing.html#returning-a-view-versus-a-copy\n",
            "  df[col_name] = np.zeros(df.shape[0])\n",
            "/mnt/batch/tasks/shared/LS_root/mounts/clusters/computercrd27100/code/Users/akprabhu/AMLHotelChurnJupyterNotebook/scripts/pipeline_library.py:120: SettingWithCopyWarning: \n",
            "A value is trying to be set on a copy of a slice from a DataFrame.\n",
            "Try using .loc[row_indexer,col_indexer] = value instead\n",
            "\n",
            "See the caveats in the documentation: http://pandas.pydata.org/pandas-docs/stable/user_guide/indexing.html#returning-a-view-versus-a-copy\n",
            "  df[col_name] = serviceUsageDF[mask][\"ServiceCost\"]\n",
            "/anaconda/envs/azureml_py36/lib/python3.6/site-packages/sklearn/linear_model/_logistic.py:940: ConvergenceWarning: lbfgs failed to converge (status=1):\n",
            "STOP: TOTAL NO. of ITERATIONS REACHED LIMIT.\n",
            "\n",
            "Increase the number of iterations (max_iter) or scale the data as shown in:\n",
            "    https://scikit-learn.org/stable/modules/preprocessing.html\n",
            "Please also refer to the documentation for alternative solver options:\n",
            "    https://scikit-learn.org/stable/modules/linear_model.html#logistic-regression\n",
            "  extra_warning_msg=_LOGISTIC_SOLVER_CONVERGENCE_MSG)\n"
          ]
        },
        {
          "output_type": "stream",
          "name": "stdout",
          "text": [
            "train columns\n",
            "training ...\n",
            "predicting ...\n",
            "Accuracy is 0.915051247771836\n",
            "save model\n",
            "register model\n",
            "Registering model churnscore\n"
          ]
        }
      ],
      "execution_count": 3,
      "metadata": {
        "collapsed": true,
        "jupyter": {
          "source_hidden": false,
          "outputs_hidden": false
        },
        "nteract": {
          "transient": {
            "deleting": false
          }
        },
        "gather": {
          "logged": 1607122623061
        }
      }
    }
  ],
  "metadata": {
    "kernelspec": {
      "name": "python3-azureml",
      "language": "python",
      "display_name": "Python 3.6 - AzureML"
    },
    "language_info": {
      "name": "python",
      "version": "3.6.9",
      "mimetype": "text/x-python",
      "codemirror_mode": {
        "name": "ipython",
        "version": 3
      },
      "pygments_lexer": "ipython3",
      "nbconvert_exporter": "python",
      "file_extension": ".py"
    },
    "kernel_info": {
      "name": "python3-azureml"
    },
    "nteract": {
      "version": "nteract-front-end@1.0.0"
    }
  },
  "nbformat": 4,
  "nbformat_minor": 2
}